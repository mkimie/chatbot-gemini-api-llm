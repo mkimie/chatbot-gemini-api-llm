{
  "nbformat": 4,
  "nbformat_minor": 0,
  "metadata": {
    "colab": {
      "provenance": [],
      "authorship_tag": "ABX9TyOyKExUSfJNHaDaOtK/qZoi",
      "include_colab_link": true
    },
    "kernelspec": {
      "name": "python3",
      "display_name": "Python 3"
    },
    "language_info": {
      "name": "python"
    }
  },
  "cells": [
    {
      "cell_type": "markdown",
      "metadata": {
        "id": "view-in-github",
        "colab_type": "text"
      },
      "source": [
        "<a href=\"https://colab.research.google.com/github/mkimie/chatbot-gemini-api-llm/blob/main/chatbot_gemini_api.ipynb\" target=\"_parent\"><img src=\"https://colab.research.google.com/assets/colab-badge.svg\" alt=\"Open In Colab\"/></a>"
      ]
    },
    {
      "cell_type": "markdown",
      "source": [
        "Instalando SDK do Google"
      ],
      "metadata": {
        "id": "IbYwQJLaZq-W"
      }
    },
    {
      "cell_type": "code",
      "execution_count": 11,
      "metadata": {
        "id": "kaJhCqDXZZgf"
      },
      "outputs": [],
      "source": [
        "!pip install -q -U google-generativeai"
      ]
    },
    {
      "cell_type": "code",
      "source": [
        "import google.generativeai as genai\n",
        "from google.colab import userdata\n",
        "\n",
        "GOOGLE_API_KEY=userdata.get('GOOGLE_API_KEY')\n",
        "genai.configure(api_key=GOOGLE_API_KEY)\n",
        "\n",
        "#Configurações Gerais\n",
        "generation_config={\n",
        "    \"candidate_count\": 1,\n",
        "    \"temperature\" : 1\n",
        "}\n",
        "\n",
        "#Configurações de Seguranca\n",
        "safety_settings={\n",
        "    \"HARASSMENT\": \"BLOCK_NONE\",\n",
        "    \"HATE\": \"BLOCK_NONE\",\n",
        "    \"SEXUAL\":\"BLOCK_NONE\",\n",
        "    \"DANGEROUS\": \"BLOCK_NONE\"\n",
        "}\n",
        "\n",
        "#Criação de um modelo Gemini do Google\n",
        "model = genai.GenerativeModel(model_name=\"gemini-1.0-pro\",\n",
        "                              safety_settings=safety_settings,\n",
        "                              generation_config=generation_config)\n",
        "\n",
        "\n",
        "chatbot = model.start_chat(history=[])\n",
        "\n",
        "prompt = input(\"Send a message: \")\n",
        "\n",
        "while prompt != \"END\" :\n",
        "  response = chatbot.send_message(prompt)\n",
        "  print(\"Response: \", response.text, \"\\n\")\n",
        "  prompt = input(\"To exit, type END, otherwise type your message: \")"
      ],
      "metadata": {
        "id": "Vl_TB2rGm2W_"
      },
      "execution_count": null,
      "outputs": []
    }
  ]
}